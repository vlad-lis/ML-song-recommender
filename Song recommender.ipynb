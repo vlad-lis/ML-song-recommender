{
 "cells": [
  {
   "attachments": {},
   "cell_type": "markdown",
   "id": "34bb595f",
   "metadata": {},
   "source": [
    "# Song recommender"
   ]
  },
  {
   "attachments": {},
   "cell_type": "markdown",
   "id": "c64e527d",
   "metadata": {},
   "source": [
    "## imports"
   ]
  },
  {
   "cell_type": "code",
   "execution_count": 1,
   "id": "4933c7d3",
   "metadata": {},
   "outputs": [],
   "source": [
    "import requests\n",
    "from bs4 import BeautifulSoup\n",
    "import pandas as pd\n",
    "import numpy as np\n",
    "\n",
    "import spotipy\n",
    "from spotipy.oauth2 import SpotifyClientCredentials\n",
    "import config\n",
    "\n",
    "from sklearn.preprocessing import StandardScaler\n",
    "from sklearn.cluster import KMeans\n",
    "from matplotlib import pyplot\n",
    "from sklearn.metrics import silhouette_score\n",
    "import matplotlib.pyplot as plt\n",
    "%matplotlib inline\n"
   ]
  },
  {
   "cell_type": "code",
   "execution_count": 2,
   "id": "6c7f1e70",
   "metadata": {},
   "outputs": [],
   "source": [
    "# extract song names from top 100\n",
    "def get_songs(containers):\n",
    "    songs = []\n",
    "    i = 0\n",
    "    while i < len(containers):\n",
    "        song = containers[i].find('h3').get_text()\n",
    "        songs.append(song.replace('\\n', '').replace('\\t', ''))\n",
    "        i += 1\n",
    "    return songs\n"
   ]
  },
  {
   "cell_type": "code",
   "execution_count": 3,
   "id": "c059624f",
   "metadata": {},
   "outputs": [],
   "source": [
    "# extract artists from top 100\n",
    "def get_artists(containers):\n",
    "    artists = []\n",
    "    i = 0\n",
    "    while i < len(containers):\n",
    "        artist = containers[i].find(\n",
    "            'span', {'class': 'a-no-trucate'}).get_text()\n",
    "        artists.append(artist.replace('\\n', '').replace('\\t', ''))\n",
    "        i += 1\n",
    "    return artists"
   ]
  },
  {
   "cell_type": "code",
   "execution_count": 4,
   "id": "0ab13d73",
   "metadata": {},
   "outputs": [],
   "source": [
    "# exe\n",
    "url = 'https://www.billboard.com/charts/hot-100/'\n",
    "res = requests.get(url)\n",
    "\n",
    "soup = BeautifulSoup(res.text, 'html.parser')\n",
    "top100 = soup.find_all('div', {'class': 'o-chart-results-list-row-container'})\n",
    "\n",
    "artists = get_artists(top100)\n",
    "songs = get_songs(top100)\n",
    "\n",
    "top100_df = pd.DataFrame(zip(artists, songs), columns=['Artist', 'Song'])\n",
    "top100_df.index = np.arange(1, len(top100_df) + 1)\n"
   ]
  },
  {
   "cell_type": "code",
   "execution_count": 5,
   "id": "cad2205d",
   "metadata": {},
   "outputs": [],
   "source": [
    "def recommender(df):\n",
    "    artist = input('Artist name: ').lower()\n",
    "    song = input('Song name: ').lower()\n",
    "\n",
    "    lower_df = df.applymap(lambda x: x.lower())\n",
    "    songRow = lower_df.loc[(lower_df['Artist'] == artist)\n",
    "                           & (lower_df['Song'] == song)]\n",
    "\n",
    "    if not songRow.empty:\n",
    "        exclude_index = songRow.index\n",
    "        rec_index = np.random.choice(\n",
    "            [i for i in range(1, len(df) + 1) if i != exclude_index])\n",
    "\n",
    "        recommended_artist = df.loc[rec_index, 'Artist']\n",
    "        recommended_song = df.loc[rec_index, 'Song']\n",
    "\n",
    "        return f'{recommended_artist} - {recommended_song}'\n",
    "\n",
    "    return 'Unfortunately, the song is not in the hot list!'\n"
   ]
  },
  {
   "attachments": {},
   "cell_type": "markdown",
   "id": "666ccfce",
   "metadata": {},
   "source": [
    "## 2. Spotify API"
   ]
  },
  {
   "cell_type": "code",
   "execution_count": 6,
   "id": "2287905b",
   "metadata": {},
   "outputs": [],
   "source": [
    "sp = spotipy.Spotify(auth_manager=SpotifyClientCredentials(client_id=config.client_id,\n",
    "                                                           client_secret=config.client_secret))\n"
   ]
  },
  {
   "cell_type": "code",
   "execution_count": 7,
   "id": "7e6c989e",
   "metadata": {},
   "outputs": [],
   "source": [
    "# get playlist tracks\n",
    "def get_tracks(playlist_id):\n",
    "    results = sp.user_playlist_tracks('spotify', playlist_id, market=\"GB\")\n",
    "    tracks = results['items']\n",
    "    while results['next']:\n",
    "        results = sp.next(results)\n",
    "        tracks.extend(results['items'])\n",
    "    return tracks\n"
   ]
  },
  {
   "cell_type": "code",
   "execution_count": 8,
   "id": "23c77d41",
   "metadata": {},
   "outputs": [],
   "source": [
    "# extract song ids\n",
    "def extract_ids(playlist):\n",
    "    ids = []\n",
    "    i = 0\n",
    "    while i < len(playlist):\n",
    "        ids.append(playlist[i]['track']['id'])\n",
    "        i += 1\n",
    "    return ids\n"
   ]
  },
  {
   "cell_type": "code",
   "execution_count": 9,
   "id": "869e0f6a",
   "metadata": {},
   "outputs": [],
   "source": [
    "# extract song features for each id\n",
    "def extract_features(ids):\n",
    "    features_by_id = []\n",
    "    i = 0\n",
    "\n",
    "    while i < len(ids):\n",
    "        try:\n",
    "            features_by_id.append(sp.audio_features(ids[i])[0])\n",
    "        except TypeError:\n",
    "            continue\n",
    "        finally:\n",
    "            i += 1\n",
    "\n",
    "    return features_by_id\n"
   ]
  },
  {
   "cell_type": "code",
   "execution_count": 10,
   "id": "7a5ecf1f",
   "metadata": {},
   "outputs": [],
   "source": [
    "# playlist to dataframe\n",
    "def to_df(playlist_id):\n",
    "    playlist = get_tracks(playlist_id)\n",
    "    ids = extract_ids(playlist)\n",
    "    features = extract_features(ids)\n",
    "\n",
    "    df = pd.DataFrame({'id': ids, 'features': features})\n",
    "    df = pd.concat([df.drop(['features'], axis=1), df['features'].apply(pd.Series).drop(['id'], axis=1)], axis=1)\n",
    "    df.drop(['type', 'uri', 'track_href', 'analysis_url', 'time_signature', 'duration_ms'], axis=1, inplace=True)\n",
    "\n",
    "    return df\n"
   ]
  },
  {
   "cell_type": "code",
   "execution_count": 11,
   "id": "8013d6ee",
   "metadata": {},
   "outputs": [],
   "source": [
    "# exe\n",
    "df = pd.concat([to_df('0iAeUtwINlqfjwAyQ4ykur'),\n",
    "                to_df('37i9dQZF1DWXWbLEOaHnU3')], ignore_index=True)\n",
    "\n",
    "# to_df('5S8SJdl1BDc0ugpkEvFsIL')  - 10k \n",
    "# to_df('7beGd4yYY1qpsBv6K3clFZ') - 4.5k\n"
   ]
  },
  {
   "attachments": {},
   "cell_type": "markdown",
   "id": "ccb7128a",
   "metadata": {},
   "source": [
    "## 3. Clustering"
   ]
  },
  {
   "cell_type": "code",
   "execution_count": 12,
   "id": "c57bc2b6",
   "metadata": {},
   "outputs": [],
   "source": [
    "# data frama of scaled features\n",
    "def get_scaled_features(df):\n",
    "    features = df.drop(['id'], axis=1)\n",
    "    scaler = StandardScaler()\n",
    "    scaler.fit(features)\n",
    "\n",
    "    features_scaled = scaler.transform(features)\n",
    "    features_scaled_df = pd.DataFrame(features_scaled, columns=features.columns)\n",
    "\n",
    "    return features_scaled_df\n",
    "\n"
   ]
  },
  {
   "cell_type": "code",
   "execution_count": 13,
   "id": "5bcf2896",
   "metadata": {},
   "outputs": [],
   "source": [
    "# draw plot for elbow method\n",
    "def draw_elbow(scaled_features):\n",
    "    cluster_range = range(2, 21)\n",
    "    inertia = []\n",
    "\n",
    "    for i in cluster_range:\n",
    "        kmeans = KMeans(n_clusters=i, random_state=1234)\n",
    "        kmeans.fit(scaled_features)\n",
    "        inertia.append(kmeans.inertia_)\n",
    "\n",
    "    plt.figure(figsize=(16, 8))\n",
    "    plt.plot(cluster_range, inertia, 'bx-')\n",
    "    plt.xlabel('k')\n",
    "    plt.ylabel('inertia')\n",
    "    plt.xticks(np.arange(min(cluster_range), max(cluster_range)+1, 1.0))\n",
    "    plt.title('Elbow Method showing the optimal k')\n",
    "    \n",
    "\n",
    "scaled_features = get_scaled_features(df)\n",
    "#draw_elbow(scaled_features)  # k = 4-6"
   ]
  },
  {
   "cell_type": "code",
   "execution_count": 14,
   "id": "55d040a7",
   "metadata": {},
   "outputs": [],
   "source": [
    "# draw plot for silhouette method\n",
    "def draw_silhouette(scaled_features):\n",
    "    cluster_range = range(2, 21)\n",
    "    silhouette = []\n",
    "\n",
    "    for i in cluster_range:\n",
    "        kmeans = KMeans(n_clusters=i, random_state=1234)\n",
    "        kmeans.fit(scaled_features)\n",
    "\n",
    "        clusters = kmeans.predict(scaled_features)\n",
    "        silhouette.append(silhouette_score(scaled_features, clusters))\n",
    "\n",
    "    plt.figure(figsize=(16,8))\n",
    "    plt.plot(cluster_range, silhouette, 'bx-')\n",
    "    plt.xlabel('k')\n",
    "    plt.ylabel('silhouette score')\n",
    "    plt.xticks(np.arange(min(cluster_range), max(cluster_range)+1, 1.0))\n",
    "    plt.title('Silhouette Method showing the optimal k')\n",
    "\n",
    "\n",
    "scaled_features = get_scaled_features(df)\n",
    "#draw_silhouette(scaled_features)    # k = 6"
   ]
  },
  {
   "cell_type": "code",
   "execution_count": 16,
   "id": "54f7ec9f",
   "metadata": {},
   "outputs": [],
   "source": [
    "def clustering(k, scaled_features):\n",
    "    kmeans = KMeans(n_clusters=k, random_state=1234)\n",
    "    kmeans.fit(scaled_features)\n",
    "\n",
    "    clusters = kmeans.predict(scaled_features)\n",
    "\n",
    "    return clusters"
   ]
  },
  {
   "cell_type": "code",
   "execution_count": 17,
   "id": "dff6b4e5",
   "metadata": {},
   "outputs": [],
   "source": [
    "#exe\n",
    "scaled_features = get_scaled_features(df)\n",
    "clusters = clustering(6, scaled_features)\n",
    "\n",
    "df['cluster'] = clusters"
   ]
  }
 ],
 "metadata": {
  "kernelspec": {
   "display_name": "base",
   "language": "python",
   "name": "python3"
  },
  "language_info": {
   "codemirror_mode": {
    "name": "ipython",
    "version": 3
   },
   "file_extension": ".py",
   "mimetype": "text/x-python",
   "name": "python",
   "nbconvert_exporter": "python",
   "pygments_lexer": "ipython3",
   "version": "3.9.13"
  },
  "vscode": {
   "interpreter": {
    "hash": "9369e8ca83508345c890ec530ea3af6b0139be3bb5e3bb2fafc0fb051053a94e"
   }
  }
 },
 "nbformat": 4,
 "nbformat_minor": 5
}
