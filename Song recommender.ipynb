{
 "cells": [
  {
   "cell_type": "markdown",
   "id": "34bb595f",
   "metadata": {},
   "source": [
    "# Song recommender"
   ]
  },
  {
   "cell_type": "markdown",
   "id": "c64e527d",
   "metadata": {},
   "source": [
    "## imports"
   ]
  },
  {
   "cell_type": "code",
   "execution_count": 1,
   "id": "4933c7d3",
   "metadata": {},
   "outputs": [],
   "source": [
    "import requests\n",
    "from bs4 import BeautifulSoup\n",
    "import pandas as pd\n",
    "import numpy as np\n",
    "\n",
    "import spotipy\n",
    "from spotipy.oauth2 import SpotifyClientCredentials\n",
    "from requests.exceptions import ReadTimeout\n",
    "from IPython.display import IFrame, display\n",
    "import config\n",
    "\n",
    "from sklearn.preprocessing import StandardScaler\n",
    "from sklearn.cluster import KMeans\n",
    "from matplotlib import pyplot\n",
    "from sklearn.metrics import silhouette_score\n",
    "import matplotlib.pyplot as plt\n",
    "%matplotlib inline\n",
    "\n",
    "from time import sleep\n",
    "from random import randint\n"
   ]
  },
  {
   "cell_type": "markdown",
   "id": "3e5340e7",
   "metadata": {},
   "source": [
    "## 1. Top 100"
   ]
  },
  {
   "cell_type": "code",
   "execution_count": 2,
   "id": "6c7f1e70",
   "metadata": {},
   "outputs": [],
   "source": [
    "# extract song names from top 100\n",
    "def get_songs(containers):\n",
    "    songs = []\n",
    "    i = 0\n",
    "    while i < len(containers):\n",
    "        song = containers[i].find('h3').get_text()\n",
    "        songs.append(song.replace('\\n', '').replace('\\t', ''))\n",
    "        i += 1\n",
    "    return songs\n"
   ]
  },
  {
   "cell_type": "code",
   "execution_count": 3,
   "id": "c059624f",
   "metadata": {},
   "outputs": [],
   "source": [
    "# extract artists from top 100\n",
    "def get_artists(containers):\n",
    "    artists = []\n",
    "    i = 0\n",
    "    while i < len(containers):\n",
    "        artist = containers[i].find(\n",
    "            'span', {'class': 'a-no-trucate'}).get_text()\n",
    "        artists.append(artist.replace('\\n', '').replace('\\t', ''))\n",
    "        i += 1\n",
    "    return artists\n"
   ]
  },
  {
   "cell_type": "markdown",
   "id": "666ccfce",
   "metadata": {},
   "source": [
    "## 2. Spotify API"
   ]
  },
  {
   "cell_type": "code",
   "execution_count": 4,
   "id": "2287905b",
   "metadata": {},
   "outputs": [],
   "source": [
    "sp = spotipy.Spotify(auth_manager=SpotifyClientCredentials(client_id=config.client_id,\n",
    "                                                           client_secret=config.client_secret), \n",
    "                                                           requests_timeout=10, \n",
    "                                                           retries=10)\n"
   ]
  },
  {
   "cell_type": "code",
   "execution_count": 5,
   "id": "7e6c989e",
   "metadata": {},
   "outputs": [],
   "source": [
    "# get playlist tracks\n",
    "def get_tracks(playlist_id):\n",
    "    results = sp.user_playlist_tracks('spotify', playlist_id, market=\"GB\")\n",
    "    tracks = results['items']\n",
    "    while results['next']:\n",
    "        results = sp.next(results)\n",
    "        tracks.extend(results['items'])\n",
    "        #sleep(20)\n",
    "    return tracks\n"
   ]
  },
  {
   "cell_type": "code",
   "execution_count": 6,
   "id": "23c77d41",
   "metadata": {},
   "outputs": [],
   "source": [
    "# extract song ids\n",
    "def extract_ids(playlist):\n",
    "    ids = []\n",
    "    i = 0\n",
    "    while i < len(playlist):\n",
    "        ids.append(playlist[i]['track']['id'])\n",
    "        i += 1\n",
    "    return ids\n"
   ]
  },
  {
   "cell_type": "code",
   "execution_count": 7,
   "id": "869e0f6a",
   "metadata": {},
   "outputs": [],
   "source": [
    "# extract song features for each id\n",
    "def extract_features(ids):\n",
    "    features_by_id = []\n",
    "    i = 0\n",
    "\n",
    "    while i < len(ids):\n",
    "        try:\n",
    "            if sp.audio_features(ids[i])[0]:\n",
    "                features_by_id.append(sp.audio_features(ids[i])[0])\n",
    "        except TypeError:\n",
    "            continue\n",
    "        except AttributeError:\n",
    "            continue\n",
    "        finally:\n",
    "            i += 1\n",
    "\n",
    "    return features_by_id\n"
   ]
  },
  {
   "cell_type": "code",
   "execution_count": 8,
   "id": "a22ec8fb",
   "metadata": {},
   "outputs": [],
   "source": [
    "# Features to data frame\n",
    "def to_df(playlist_id):\n",
    "    playlist = get_tracks(playlist_id)\n",
    "    ids = extract_ids(playlist)\n",
    "    features = extract_features(ids)\n",
    "\n",
    "    df = pd.DataFrame(features)\n",
    "    #df = pd.concat([df['id'], df.drop(['id'], axis=1)], axis=1)\n",
    "    df.drop(['type', 'uri', 'track_href', 'analysis_url', 'time_signature', 'duration_ms'], axis=1, inplace=True)\n",
    "    \n",
    "    return df\n"
   ]
  },
  {
   "cell_type": "code",
   "execution_count": 9,
   "id": "8013d6ee",
   "metadata": {},
   "outputs": [],
   "source": [
    "\n",
    "# p1 - 5S8SJdl1BDc0ugpkEvFsIL - 10k \n",
    "# p2 - 7beGd4yYY1qpsBv6K3clFZ - 4.5k\n",
    "# p3 - 69fEt9DN5r4JQATi52sRtq - 6k\n",
    "# p4 - 6ajZ3ZK5HL1peecsWjWZ7Y - 8.6k\n",
    "# p5 - 0NnLQDJODqRGP83SP7VCEg - 4k\n",
    "# p6 - 2xprAOAO0bPjec45puo08f - 1k\n",
    "# p7 - 6srddMK48bjlvaVZBpukVv - 1.3k\n",
    "# p8 - 1C49yxU1XBkoq5yaVDbJwx - 8.2k\n",
    "\n",
    "# p1 = pd.read_csv('p1.csv')\n",
    "# p2 = pd.read_csv('p2.csv')\n",
    "# p3 = pd.read_csv('p3.csv')\n",
    "# p4 = pd.read_csv('p4.csv')\n",
    "# p5 = pd.read_csv('p5.csv')\n",
    "# p6 = pd.read_csv('p6.csv')\n",
    "# p7 = pd.read_csv('p7.csv')\n",
    "# p8 = pd.read_csv('p8.csv')\n",
    "\n",
    "# df = pd.concat([p1, p2, p3, p4, p5, p6, p7, p8], ignore_index=True)\n",
    "# df.drop_duplicates(inplace=True, ignore_index=True)\n",
    "# df.to_csv('data.csv', index=False)\n",
    "\n",
    "#df = pd.read_csv('data.csv')"
   ]
  },
  {
   "cell_type": "markdown",
   "id": "ccb7128a",
   "metadata": {},
   "source": [
    "## 3. Clustering"
   ]
  },
  {
   "cell_type": "code",
   "execution_count": 10,
   "id": "c57bc2b6",
   "metadata": {},
   "outputs": [],
   "source": [
    "# data frama of scaled features\n",
    "def get_scaled_features(df):\n",
    "    features = df.drop(['id'], axis=1)\n",
    "    scaler = StandardScaler()\n",
    "    scaler.fit(features)\n",
    "\n",
    "    features_scaled = scaler.transform(features)\n",
    "    features_scaled_df = pd.DataFrame(features_scaled, columns=features.columns)\n",
    "\n",
    "    return features_scaled_df\n",
    "\n"
   ]
  },
  {
   "cell_type": "code",
   "execution_count": 11,
   "id": "5bcf2896",
   "metadata": {},
   "outputs": [],
   "source": [
    "# draw plot for elbow method\n",
    "def draw_elbow(scaled_features):\n",
    "    cluster_range = range(2, 21)\n",
    "    inertia = []\n",
    "\n",
    "    for i in cluster_range:\n",
    "        kmeans = KMeans(n_clusters=i, random_state=1234)\n",
    "        kmeans.fit(scaled_features)\n",
    "        inertia.append(kmeans.inertia_)\n",
    "\n",
    "    plt.figure(figsize=(16, 8))\n",
    "    plt.plot(cluster_range, inertia, 'bx-')\n",
    "    plt.xlabel('k')\n",
    "    plt.ylabel('inertia')\n",
    "    plt.xticks(np.arange(min(cluster_range), max(cluster_range)+1, 1.0))\n",
    "    plt.title('Elbow Method showing the optimal k')\n",
    "    \n",
    "\n",
    "#scaled_features = get_scaled_features(df)\n",
    "#draw_elbow(scaled_features)  # k = 8-9"
   ]
  },
  {
   "cell_type": "code",
   "execution_count": 12,
   "id": "55d040a7",
   "metadata": {},
   "outputs": [],
   "source": [
    "# draw plot for silhouette method\n",
    "def draw_silhouette(scaled_features):\n",
    "    cluster_range = range(2, 21)\n",
    "    silhouette = []\n",
    "\n",
    "    for i in cluster_range:\n",
    "        kmeans = KMeans(n_clusters=i, random_state=1234)\n",
    "        kmeans.fit(scaled_features)\n",
    "\n",
    "        clusters = kmeans.predict(scaled_features)\n",
    "        silhouette.append(silhouette_score(scaled_features, clusters))\n",
    "\n",
    "    plt.figure(figsize=(16,8))\n",
    "    plt.plot(cluster_range, silhouette, 'bx-')\n",
    "    plt.xlabel('k')\n",
    "    plt.ylabel('silhouette score')\n",
    "    plt.xticks(np.arange(min(cluster_range), max(cluster_range)+1, 1.0))\n",
    "    plt.title('Silhouette Method showing the optimal k')\n",
    "\n",
    "\n",
    "#scaled_features = get_scaled_features(df)\n",
    "#draw_silhouette(scaled_features)    # k = 3/8"
   ]
  },
  {
   "cell_type": "code",
   "execution_count": 13,
   "id": "54f7ec9f",
   "metadata": {},
   "outputs": [],
   "source": [
    "def clustering(k, scaled_features):\n",
    "    kmeans = KMeans(n_clusters=k, random_state=1234)\n",
    "    kmeans.fit(scaled_features)\n",
    "\n",
    "    clusters = kmeans.predict(scaled_features)\n",
    "\n",
    "    return clusters\n"
   ]
  },
  {
   "cell_type": "markdown",
   "id": "f0528c3c",
   "metadata": {},
   "source": [
    "## 4. Recommender"
   ]
  },
  {
   "cell_type": "code",
   "execution_count": 14,
   "id": "fe6109a4",
   "metadata": {},
   "outputs": [],
   "source": [
    "# song's features\n",
    "def song_features_df(id):\n",
    "    features = sp.audio_features(id)[0]\n",
    "    features = pd.DataFrame(features, index=[0])\n",
    "    features.drop(['type', 'uri', 'track_href', 'analysis_url', 'time_signature', 'duration_ms'], \n",
    "            axis=1, inplace=True)\n",
    "    \n",
    "    return features\n"
   ]
  },
  {
   "cell_type": "code",
   "execution_count": 15,
   "id": "24410d3d",
   "metadata": {},
   "outputs": [],
   "source": [
    "# player iframe\n",
    "def player(track_id):\n",
    "    iframe = IFrame(src=\"https://open.spotify.com/embed/track/\"+track_id,\n",
    "                    width=\"320\",\n",
    "                    height=\"80\",\n",
    "                    frameborder=\"0\",\n",
    "                    allowtransparency=\"true\",\n",
    "                    allow=\"encrypted-media\",)\n",
    "    \n",
    "    return iframe"
   ]
  },
  {
   "cell_type": "code",
   "execution_count": 16,
   "id": "eb9396d2",
   "metadata": {},
   "outputs": [],
   "source": [
    "## dfs\n",
    "\n",
    "# top100 df\n",
    "url = 'https://www.billboard.com/charts/hot-100/'\n",
    "res = requests.get(url)\n",
    "\n",
    "soup = BeautifulSoup(res.text, 'html.parser')\n",
    "top100 = soup.find_all('div', {'class': 'o-chart-results-list-row-container'})\n",
    "\n",
    "artists = get_artists(top100)\n",
    "songs = get_songs(top100)\n",
    "\n",
    "top100_df = pd.DataFrame(zip(artists, songs), columns=['Artist', 'Song'])\n",
    "top100_df.index = np.arange(1, len(top100_df) + 1)\n",
    "\n",
    "\n",
    "# spotify playlists\n",
    "df = pd.read_csv('data.csv')\n",
    "\n",
    "scaled_features = get_scaled_features(df)\n",
    "clusters = clustering(8, scaled_features)\n",
    "df['cluster'] = clusters\n",
    "\n"
   ]
  },
  {
   "cell_type": "code",
   "execution_count": 19,
   "id": "b006488a",
   "metadata": {
    "scrolled": true
   },
   "outputs": [],
   "source": [
    "def recommender(top100_df, spotify_df, scaled_features):\n",
    "    #input\n",
    "    artist = input('Artist name: ').lower()\n",
    "    song = input('Song name: ').lower()\n",
    "    track = f'{artist} {song}'\n",
    "    \n",
    "    #spotify search\n",
    "    search_res = sp.search(q=track, limit=1,market=\"GB\")\n",
    "    search_id = search_res['tracks']['items'][0]['id']\n",
    "    search_artist = search_res['tracks']['items'][0]['artists'][0]['name']\n",
    "    search_song = search_res['tracks']['items'][0]['name']\n",
    "    print('\\nInput song: ')\n",
    "    display(player(search_id))\n",
    "    \n",
    "    #kmeans\n",
    "    kmeans = KMeans(n_clusters=8, random_state=1234)\n",
    "    kmeans.fit(scaled_features)\n",
    "    \n",
    "    #song df for top100\n",
    "    top100_songRow = top100_df.loc[(top100_df['Artist'] == search_artist) & (top100_df['Song'] == search_song)]\n",
    "    \n",
    "    \n",
    "    #song df & cluster for spotify\n",
    "    inputRow = song_features_df(search_id)\n",
    "    inputRow['cluster'] = kmeans.predict(inputRow.drop(['id'], axis=1))\n",
    "    inputCluster = inputRow['cluster'].values[0]\n",
    "    \n",
    "    \n",
    "    #if song in top100\n",
    "    if not top100_songRow.empty:\n",
    "        exclude_index = top100_songRow.index\n",
    "        rec_index = np.random.choice([i for i in range(1, len(top100_df) + 1) if i != exclude_index])\n",
    "\n",
    "        rec_artist = top100_df.loc[rec_index, 'Artist']\n",
    "        rec_song = top100_df.loc[rec_index, 'Song']\n",
    "        rec_track = f'{rec_artist} {rec_song}'\n",
    "        \n",
    "        search_rec = sp.search(q=rec_track, limit=1,market=\"GB\")\n",
    "        search_rec_id = search_rec['tracks']['items'][0]['id']\n",
    "        \n",
    "        print('\\nRecommended song:')\n",
    "        return display(player(search_rec_id))\n",
    "    \n",
    "    \n",
    "    #if song not in top100\n",
    "    clusterSongs = df[df['cluster'] == inputCluster]\n",
    "    rec_row = clusterSongs.sample()\n",
    "    rec_id = rec_row['id'].values[0]\n",
    "    \n",
    "    print('\\nRecommended song:')\n",
    "    return display(player(rec_id))\n",
    "    \n"
   ]
  },
  {
   "cell_type": "code",
   "execution_count": 20,
   "id": "d8c09032",
   "metadata": {},
   "outputs": [
    {
     "name": "stdout",
     "output_type": "stream",
     "text": [
      "Artist name: killers\n",
      "Song name: bright\n",
      "\n",
      "Input song: \n"
     ]
    },
    {
     "data": {
      "text/html": [
       "\n",
       "        <iframe\n",
       "            width=\"320\"\n",
       "            height=\"80\"\n",
       "            src=\"https://open.spotify.com/embed/track/003vvx7Niy0yvhvHt4a68B?frameborder=0&allowtransparency=true&allow=encrypted-media\"\n",
       "            frameborder=\"0\"\n",
       "            allowfullscreen\n",
       "            \n",
       "        ></iframe>\n",
       "        "
      ],
      "text/plain": [
       "<IPython.lib.display.IFrame at 0x7fed54b0bb80>"
      ]
     },
     "metadata": {},
     "output_type": "display_data"
    },
    {
     "name": "stdout",
     "output_type": "stream",
     "text": [
      "\n",
      "Recommended song:\n"
     ]
    },
    {
     "data": {
      "text/html": [
       "\n",
       "        <iframe\n",
       "            width=\"320\"\n",
       "            height=\"80\"\n",
       "            src=\"https://open.spotify.com/embed/track/2e8r5YIPMCxXVJPPfwaSK8?frameborder=0&allowtransparency=true&allow=encrypted-media\"\n",
       "            frameborder=\"0\"\n",
       "            allowfullscreen\n",
       "            \n",
       "        ></iframe>\n",
       "        "
      ],
      "text/plain": [
       "<IPython.lib.display.IFrame at 0x7fed536b6280>"
      ]
     },
     "metadata": {},
     "output_type": "display_data"
    }
   ],
   "source": [
    "recommender(top100_df, df, scaled_features)"
   ]
  }
 ],
 "metadata": {
  "kernelspec": {
   "display_name": "Python 3 (ipykernel)",
   "language": "python",
   "name": "python3"
  },
  "language_info": {
   "codemirror_mode": {
    "name": "ipython",
    "version": 3
   },
   "file_extension": ".py",
   "mimetype": "text/x-python",
   "name": "python",
   "nbconvert_exporter": "python",
   "pygments_lexer": "ipython3",
   "version": "3.9.13"
  },
  "vscode": {
   "interpreter": {
    "hash": "9369e8ca83508345c890ec530ea3af6b0139be3bb5e3bb2fafc0fb051053a94e"
   }
  }
 },
 "nbformat": 4,
 "nbformat_minor": 5
}
