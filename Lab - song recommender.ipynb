{
 "cells": [
  {
   "cell_type": "markdown",
   "id": "34bb595f",
   "metadata": {},
   "source": [
    "# Lab - song recommender"
   ]
  },
  {
   "cell_type": "markdown",
   "id": "c64e527d",
   "metadata": {},
   "source": [
    "## Day 1 - web scraping"
   ]
  },
  {
   "cell_type": "code",
   "execution_count": 1,
   "id": "4933c7d3",
   "metadata": {},
   "outputs": [],
   "source": [
    "import requests\n",
    "from bs4 import BeautifulSoup\n",
    "import pandas as pd\n",
    "import numpy as np\n",
    "#import re"
   ]
  },
  {
   "cell_type": "code",
   "execution_count": 2,
   "id": "0ab13d73",
   "metadata": {},
   "outputs": [
    {
     "data": {
      "text/plain": [
       "200"
      ]
     },
     "execution_count": 2,
     "metadata": {},
     "output_type": "execute_result"
    }
   ],
   "source": [
    "url = 'https://www.billboard.com/charts/hot-100/'\n",
    "res = requests.get(url)\n",
    "\n",
    "res.status_code"
   ]
  },
  {
   "cell_type": "code",
   "execution_count": 3,
   "id": "5c7996f1",
   "metadata": {},
   "outputs": [],
   "source": [
    "soup = BeautifulSoup(res.text, 'html.parser')"
   ]
  },
  {
   "cell_type": "code",
   "execution_count": 4,
   "id": "bde66b93",
   "metadata": {},
   "outputs": [],
   "source": [
    "top100 = soup.find_all('div', {'class': 'o-chart-results-list-row-container'})"
   ]
  },
  {
   "cell_type": "code",
   "execution_count": 5,
   "id": "e58e3927",
   "metadata": {},
   "outputs": [],
   "source": [
    "def get_songs(containers):\n",
    "    songs = []\n",
    "    i = 0\n",
    "    while i < len(containers):\n",
    "        song = containers[i].find('h3').get_text()\n",
    "        songs.append(song.replace('\\n', '').replace('\\t', ''))\n",
    "        i += 1\n",
    "    return songs"
   ]
  },
  {
   "cell_type": "code",
   "execution_count": 6,
   "id": "52053548",
   "metadata": {},
   "outputs": [],
   "source": [
    "def get_artists(containers):\n",
    "    artists = []\n",
    "    i = 0\n",
    "    while i < len(containers):\n",
    "        artist = containers[i].find('span', {'class' : 'a-no-trucate'}).get_text()\n",
    "        artists.append(artist.replace('\\n', '').replace('\\t', ''))\n",
    "        i += 1\n",
    "    return artists"
   ]
  },
  {
   "cell_type": "code",
   "execution_count": 7,
   "id": "cd818c97",
   "metadata": {},
   "outputs": [],
   "source": [
    "artists = get_artists(top100)\n",
    "songs = get_songs(top100)"
   ]
  },
  {
   "cell_type": "code",
   "execution_count": 8,
   "id": "c80a16d8",
   "metadata": {},
   "outputs": [
    {
     "data": {
      "text/html": [
       "<div>\n",
       "<style scoped>\n",
       "    .dataframe tbody tr th:only-of-type {\n",
       "        vertical-align: middle;\n",
       "    }\n",
       "\n",
       "    .dataframe tbody tr th {\n",
       "        vertical-align: top;\n",
       "    }\n",
       "\n",
       "    .dataframe thead th {\n",
       "        text-align: right;\n",
       "    }\n",
       "</style>\n",
       "<table border=\"1\" class=\"dataframe\">\n",
       "  <thead>\n",
       "    <tr style=\"text-align: right;\">\n",
       "      <th></th>\n",
       "      <th>Artist</th>\n",
       "      <th>Song</th>\n",
       "    </tr>\n",
       "  </thead>\n",
       "  <tbody>\n",
       "    <tr>\n",
       "      <th>1</th>\n",
       "      <td>Miley Cyrus</td>\n",
       "      <td>Flowers</td>\n",
       "    </tr>\n",
       "    <tr>\n",
       "      <th>2</th>\n",
       "      <td>SZA</td>\n",
       "      <td>Kill Bill</td>\n",
       "    </tr>\n",
       "    <tr>\n",
       "      <th>3</th>\n",
       "      <td>Morgan Wallen</td>\n",
       "      <td>Last Night</td>\n",
       "    </tr>\n",
       "    <tr>\n",
       "      <th>4</th>\n",
       "      <td>Sam Smith &amp; Kim Petras</td>\n",
       "      <td>Unholy</td>\n",
       "    </tr>\n",
       "    <tr>\n",
       "      <th>5</th>\n",
       "      <td>Metro Boomin, The Weeknd &amp; 21 Savage</td>\n",
       "      <td>Creepin'</td>\n",
       "    </tr>\n",
       "    <tr>\n",
       "      <th>...</th>\n",
       "      <td>...</td>\n",
       "      <td>...</td>\n",
       "    </tr>\n",
       "    <tr>\n",
       "      <th>96</th>\n",
       "      <td>Yandel &amp; Feid</td>\n",
       "      <td>Yandel 150</td>\n",
       "    </tr>\n",
       "    <tr>\n",
       "      <th>97</th>\n",
       "      <td>Mac DeMarco</td>\n",
       "      <td>Heart To Heart</td>\n",
       "    </tr>\n",
       "    <tr>\n",
       "      <th>98</th>\n",
       "      <td>Jordan Davis</td>\n",
       "      <td>Next Thing You Know</td>\n",
       "    </tr>\n",
       "    <tr>\n",
       "      <th>99</th>\n",
       "      <td>P!nk</td>\n",
       "      <td>Never Gonna Not Dance Again</td>\n",
       "    </tr>\n",
       "    <tr>\n",
       "      <th>100</th>\n",
       "      <td>SZA Featuring Travis Scott</td>\n",
       "      <td>Open Arms</td>\n",
       "    </tr>\n",
       "  </tbody>\n",
       "</table>\n",
       "<p>100 rows × 2 columns</p>\n",
       "</div>"
      ],
      "text/plain": [
       "                                   Artist                         Song\n",
       "1                             Miley Cyrus                      Flowers\n",
       "2                                     SZA                    Kill Bill\n",
       "3                           Morgan Wallen                   Last Night\n",
       "4                  Sam Smith & Kim Petras                       Unholy\n",
       "5    Metro Boomin, The Weeknd & 21 Savage                     Creepin'\n",
       "..                                    ...                          ...\n",
       "96                          Yandel & Feid                   Yandel 150\n",
       "97                            Mac DeMarco               Heart To Heart\n",
       "98                           Jordan Davis          Next Thing You Know\n",
       "99                                   P!nk  Never Gonna Not Dance Again\n",
       "100            SZA Featuring Travis Scott                    Open Arms\n",
       "\n",
       "[100 rows x 2 columns]"
      ]
     },
     "execution_count": 8,
     "metadata": {},
     "output_type": "execute_result"
    }
   ],
   "source": [
    "top100_df = pd.DataFrame(zip(artists, songs), columns=['Artist', 'Song'])\n",
    "top100_df.index = np.arange(1, len(top100_df) + 1)\n",
    "\n",
    "top100_df"
   ]
  },
  {
   "cell_type": "code",
   "execution_count": 15,
   "id": "a97ebf84",
   "metadata": {},
   "outputs": [
    {
     "data": {
      "text/plain": [
       "1      False\n",
       "2       True\n",
       "3      False\n",
       "4      False\n",
       "5      False\n",
       "       ...  \n",
       "96     False\n",
       "97     False\n",
       "98     False\n",
       "99     False\n",
       "100    False\n",
       "Name: Artist, Length: 100, dtype: bool"
      ]
     },
     "execution_count": 15,
     "metadata": {},
     "output_type": "execute_result"
    }
   ],
   "source": [
    "top100_df['Artist'] == 'SZA'"
   ]
  },
  {
   "cell_type": "code",
   "execution_count": 14,
   "id": "d9673a91",
   "metadata": {},
   "outputs": [
    {
     "data": {
      "text/html": [
       "<div>\n",
       "<style scoped>\n",
       "    .dataframe tbody tr th:only-of-type {\n",
       "        vertical-align: middle;\n",
       "    }\n",
       "\n",
       "    .dataframe tbody tr th {\n",
       "        vertical-align: top;\n",
       "    }\n",
       "\n",
       "    .dataframe thead th {\n",
       "        text-align: right;\n",
       "    }\n",
       "</style>\n",
       "<table border=\"1\" class=\"dataframe\">\n",
       "  <thead>\n",
       "    <tr style=\"text-align: right;\">\n",
       "      <th></th>\n",
       "      <th>Artist</th>\n",
       "      <th>Song</th>\n",
       "    </tr>\n",
       "  </thead>\n",
       "  <tbody>\n",
       "    <tr>\n",
       "      <th>2</th>\n",
       "      <td>SZA</td>\n",
       "      <td>Kill Bill</td>\n",
       "    </tr>\n",
       "  </tbody>\n",
       "</table>\n",
       "</div>"
      ],
      "text/plain": [
       "  Artist       Song\n",
       "2    SZA  Kill Bill"
      ]
     },
     "execution_count": 14,
     "metadata": {},
     "output_type": "execute_result"
    }
   ],
   "source": [
    "top100_df.loc[(top100_df['Artist'] == 'SZA') & (top100_df['Song'] == 'Kill Bill')]"
   ]
  },
  {
   "cell_type": "code",
   "execution_count": 9,
   "id": "cad2205d",
   "metadata": {},
   "outputs": [],
   "source": [
    "def recommender(df):\n",
    "    artist = input('Artist name: ').lower()\n",
    "    song = input('Song name: ').lower()\n",
    "    \n",
    "    lower_df = df.applymap(lambda x: x.lower()) \n",
    "    songRow = lower_df.loc[(lower_df['Artist'] == artist) & (lower_df['Song'] == song)]\n",
    "    \n",
    "    if not songRow.empty:     \n",
    "        exclude_index = songRow.index\n",
    "        rec_index = np.random.choice([i for i in range(1, len(df) + 1) if i != exclude_index])\n",
    "        \n",
    "        recommended_artist = df.loc[rec_index, 'Artist']\n",
    "        recommended_song = df.loc[rec_index, 'Song']\n",
    "        \n",
    "        return f'{recommended_artist} - {recommended_song}'\n",
    "    \n",
    "    return 'Unfortunately, the song is not in the hot list!'"
   ]
  },
  {
   "cell_type": "code",
   "execution_count": 10,
   "id": "da3e32d7",
   "metadata": {},
   "outputs": [
    {
     "name": "stdout",
     "output_type": "stream",
     "text": [
      "Artist name: sza\n",
      "Song name: asd\n"
     ]
    },
    {
     "data": {
      "text/plain": [
       "'Unfortunately, the song is not in the hot list!'"
      ]
     },
     "execution_count": 10,
     "metadata": {},
     "output_type": "execute_result"
    }
   ],
   "source": [
    "recommender(top100_df)"
   ]
  },
  {
   "cell_type": "markdown",
   "id": "666ccfce",
   "metadata": {},
   "source": [
    "## Spotify"
   ]
  },
  {
   "cell_type": "code",
   "execution_count": null,
   "id": "2287905b",
   "metadata": {},
   "outputs": [],
   "source": [
    "import json"
   ]
  }
 ],
 "metadata": {
  "kernelspec": {
   "display_name": "Python 3 (ipykernel)",
   "language": "python",
   "name": "python3"
  },
  "language_info": {
   "codemirror_mode": {
    "name": "ipython",
    "version": 3
   },
   "file_extension": ".py",
   "mimetype": "text/x-python",
   "name": "python",
   "nbconvert_exporter": "python",
   "pygments_lexer": "ipython3",
   "version": "3.9.13"
  }
 },
 "nbformat": 4,
 "nbformat_minor": 5
}
