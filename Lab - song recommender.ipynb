{
 "cells": [
  {
   "cell_type": "markdown",
   "id": "34bb595f",
   "metadata": {},
   "source": [
    "# Lab - song recommender"
   ]
  },
  {
   "cell_type": "markdown",
   "id": "c64e527d",
   "metadata": {},
   "source": [
    "## Day 1 - web scraping"
   ]
  },
  {
   "cell_type": "code",
   "execution_count": 403,
   "id": "4933c7d3",
   "metadata": {},
   "outputs": [],
   "source": [
    "import requests\n",
    "from bs4 import BeautifulSoup\n",
    "import pandas as pd\n",
    "import numpy as np\n",
    "\n",
    "import spotipy\n",
    "from spotipy.oauth2 import SpotifyClientCredentials\n",
    "import json\n",
    "import pprint\n",
    "import config\n",
    "\n",
    "#import re\n"
   ]
  },
  {
   "cell_type": "code",
   "execution_count": 404,
   "id": "0ab13d73",
   "metadata": {},
   "outputs": [
    {
     "data": {
      "text/plain": [
       "200"
      ]
     },
     "execution_count": 404,
     "metadata": {},
     "output_type": "execute_result"
    }
   ],
   "source": [
    "url = 'https://www.billboard.com/charts/hot-100/'\n",
    "res = requests.get(url)\n",
    "\n",
    "res.status_code\n"
   ]
  },
  {
   "cell_type": "code",
   "execution_count": 405,
   "id": "5c7996f1",
   "metadata": {},
   "outputs": [],
   "source": [
    "soup = BeautifulSoup(res.text, 'html.parser')\n"
   ]
  },
  {
   "cell_type": "code",
   "execution_count": 406,
   "id": "bde66b93",
   "metadata": {},
   "outputs": [],
   "source": [
    "top100 = soup.find_all('div', {'class': 'o-chart-results-list-row-container'})\n"
   ]
  },
  {
   "cell_type": "code",
   "execution_count": 407,
   "id": "e58e3927",
   "metadata": {},
   "outputs": [],
   "source": [
    "def get_songs(containers):\n",
    "    songs = []\n",
    "    i = 0\n",
    "    while i < len(containers):\n",
    "        song = containers[i].find('h3').get_text()\n",
    "        songs.append(song.replace('\\n', '').replace('\\t', ''))\n",
    "        i += 1\n",
    "    return songs\n"
   ]
  },
  {
   "cell_type": "code",
   "execution_count": 408,
   "id": "52053548",
   "metadata": {},
   "outputs": [],
   "source": [
    "def get_artists(containers):\n",
    "    artists = []\n",
    "    i = 0\n",
    "    while i < len(containers):\n",
    "        artist = containers[i].find(\n",
    "            'span', {'class': 'a-no-trucate'}).get_text()\n",
    "        artists.append(artist.replace('\\n', '').replace('\\t', ''))\n",
    "        i += 1\n",
    "    return artists\n"
   ]
  },
  {
   "cell_type": "code",
   "execution_count": 409,
   "id": "cd818c97",
   "metadata": {},
   "outputs": [],
   "source": [
    "artists = get_artists(top100)\n",
    "songs = get_songs(top100)\n"
   ]
  },
  {
   "cell_type": "code",
   "execution_count": 410,
   "id": "c80a16d8",
   "metadata": {},
   "outputs": [
    {
     "data": {
      "text/html": [
       "<div>\n",
       "<style scoped>\n",
       "    .dataframe tbody tr th:only-of-type {\n",
       "        vertical-align: middle;\n",
       "    }\n",
       "\n",
       "    .dataframe tbody tr th {\n",
       "        vertical-align: top;\n",
       "    }\n",
       "\n",
       "    .dataframe thead th {\n",
       "        text-align: right;\n",
       "    }\n",
       "</style>\n",
       "<table border=\"1\" class=\"dataframe\">\n",
       "  <thead>\n",
       "    <tr style=\"text-align: right;\">\n",
       "      <th></th>\n",
       "      <th>Artist</th>\n",
       "      <th>Song</th>\n",
       "    </tr>\n",
       "  </thead>\n",
       "  <tbody>\n",
       "    <tr>\n",
       "      <th>1</th>\n",
       "      <td>Miley Cyrus</td>\n",
       "      <td>Flowers</td>\n",
       "    </tr>\n",
       "    <tr>\n",
       "      <th>2</th>\n",
       "      <td>SZA</td>\n",
       "      <td>Kill Bill</td>\n",
       "    </tr>\n",
       "    <tr>\n",
       "      <th>3</th>\n",
       "      <td>Morgan Wallen</td>\n",
       "      <td>Last Night</td>\n",
       "    </tr>\n",
       "    <tr>\n",
       "      <th>4</th>\n",
       "      <td>Sam Smith &amp; Kim Petras</td>\n",
       "      <td>Unholy</td>\n",
       "    </tr>\n",
       "    <tr>\n",
       "      <th>5</th>\n",
       "      <td>Metro Boomin, The Weeknd &amp; 21 Savage</td>\n",
       "      <td>Creepin'</td>\n",
       "    </tr>\n",
       "    <tr>\n",
       "      <th>...</th>\n",
       "      <td>...</td>\n",
       "      <td>...</td>\n",
       "    </tr>\n",
       "    <tr>\n",
       "      <th>96</th>\n",
       "      <td>Yandel &amp; Feid</td>\n",
       "      <td>Yandel 150</td>\n",
       "    </tr>\n",
       "    <tr>\n",
       "      <th>97</th>\n",
       "      <td>Mac DeMarco</td>\n",
       "      <td>Heart To Heart</td>\n",
       "    </tr>\n",
       "    <tr>\n",
       "      <th>98</th>\n",
       "      <td>Jordan Davis</td>\n",
       "      <td>Next Thing You Know</td>\n",
       "    </tr>\n",
       "    <tr>\n",
       "      <th>99</th>\n",
       "      <td>P!nk</td>\n",
       "      <td>Never Gonna Not Dance Again</td>\n",
       "    </tr>\n",
       "    <tr>\n",
       "      <th>100</th>\n",
       "      <td>SZA Featuring Travis Scott</td>\n",
       "      <td>Open Arms</td>\n",
       "    </tr>\n",
       "  </tbody>\n",
       "</table>\n",
       "<p>100 rows × 2 columns</p>\n",
       "</div>"
      ],
      "text/plain": [
       "                                   Artist                         Song\n",
       "1                             Miley Cyrus                      Flowers\n",
       "2                                     SZA                    Kill Bill\n",
       "3                           Morgan Wallen                   Last Night\n",
       "4                  Sam Smith & Kim Petras                       Unholy\n",
       "5    Metro Boomin, The Weeknd & 21 Savage                     Creepin'\n",
       "..                                    ...                          ...\n",
       "96                          Yandel & Feid                   Yandel 150\n",
       "97                            Mac DeMarco               Heart To Heart\n",
       "98                           Jordan Davis          Next Thing You Know\n",
       "99                                   P!nk  Never Gonna Not Dance Again\n",
       "100            SZA Featuring Travis Scott                    Open Arms\n",
       "\n",
       "[100 rows x 2 columns]"
      ]
     },
     "execution_count": 410,
     "metadata": {},
     "output_type": "execute_result"
    }
   ],
   "source": [
    "top100_df = pd.DataFrame(zip(artists, songs), columns=['Artist', 'Song'])\n",
    "top100_df.index = np.arange(1, len(top100_df) + 1)\n",
    "\n",
    "top100_df\n"
   ]
  },
  {
   "cell_type": "code",
   "execution_count": 411,
   "id": "cad2205d",
   "metadata": {},
   "outputs": [],
   "source": [
    "def recommender(df):\n",
    "    artist = input('Artist name: ').lower()\n",
    "    song = input('Song name: ').lower()\n",
    "\n",
    "    lower_df = df.applymap(lambda x: x.lower())\n",
    "    songRow = lower_df.loc[(lower_df['Artist'] == artist)\n",
    "                           & (lower_df['Song'] == song)]\n",
    "\n",
    "    if not songRow.empty:\n",
    "        exclude_index = songRow.index\n",
    "        rec_index = np.random.choice(\n",
    "            [i for i in range(1, len(df) + 1) if i != exclude_index])\n",
    "\n",
    "        recommended_artist = df.loc[rec_index, 'Artist']\n",
    "        recommended_song = df.loc[rec_index, 'Song']\n",
    "\n",
    "        return f'{recommended_artist} - {recommended_song}'\n",
    "\n",
    "    return 'Unfortunately, the song is not in the hot list!'\n"
   ]
  },
  {
   "cell_type": "code",
   "execution_count": 412,
   "id": "da3e32d7",
   "metadata": {},
   "outputs": [
    {
     "data": {
      "text/plain": [
       "'Unfortunately, the song is not in the hot list!'"
      ]
     },
     "execution_count": 412,
     "metadata": {},
     "output_type": "execute_result"
    }
   ],
   "source": [
    "recommender(top100_df)\n"
   ]
  },
  {
   "cell_type": "markdown",
   "id": "666ccfce",
   "metadata": {},
   "source": [
    "## Spotify"
   ]
  },
  {
   "cell_type": "code",
   "execution_count": 413,
   "id": "2287905b",
   "metadata": {},
   "outputs": [],
   "source": [
    "sp = spotipy.Spotify(auth_manager=SpotifyClientCredentials(client_id=config.client_id,\n",
    "                                                           client_secret=config.client_secret))\n"
   ]
  },
  {
   "cell_type": "code",
   "execution_count": 414,
   "id": "d72de424",
   "metadata": {},
   "outputs": [
    {
     "data": {
      "text/plain": [
       "'4IqLCkdTQUl4tYb389pcSy'"
      ]
     },
     "execution_count": 414,
     "metadata": {},
     "output_type": "execute_result"
    }
   ],
   "source": [
    "test_pl = sp.user_playlist_tracks(\"spotify\", \"0iAeUtwINlqfjwAyQ4ykur\", market=\"GB\")\n",
    "test_pl['items'][0]['track']['id']\n",
    "\n",
    "#json_playlist = json.dumps(playlist['items'])\n",
    "# pprint.pprint(playlist)\n"
   ]
  },
  {
   "cell_type": "code",
   "execution_count": 415,
   "id": "7e6c989e",
   "metadata": {},
   "outputs": [],
   "source": [
    "# get playlist tracks\n",
    "def get_tracks(playlist_id):\n",
    "    results = sp.user_playlist_tracks('spotify', playlist_id, market=\"GB\")\n",
    "    tracks = results['items']\n",
    "    while results['next']:\n",
    "        results = sp.next(results)\n",
    "        tracks.extend(results['items'])\n",
    "    return tracks\n",
    "\n"
   ]
  },
  {
   "cell_type": "code",
   "execution_count": 416,
   "id": "23c77d41",
   "metadata": {},
   "outputs": [],
   "source": [
    "# extract song ids\n",
    "def extract_ids(playlist):\n",
    "    ids = []\n",
    "    i = 0\n",
    "    while i < len(playlist):\n",
    "        ids.append(playlist[i]['track']['id'])\n",
    "        i += 1\n",
    "    return ids\n",
    "\n"
   ]
  },
  {
   "cell_type": "code",
   "execution_count": 417,
   "id": "869e0f6a",
   "metadata": {},
   "outputs": [],
   "source": [
    "# extract song features for each id\n",
    "def extract_features(ids):\n",
    "    features_by_id = []\n",
    "    i = 0\n",
    "\n",
    "    while i < len(ids):\n",
    "        try:\n",
    "            features_by_id.append(sp.audio_features(ids[i])[0])\n",
    "        except TypeError:\n",
    "            continue\n",
    "        finally:\n",
    "            i += 1\n",
    "\n",
    "    return features_by_id\n"
   ]
  },
  {
   "cell_type": "code",
   "execution_count": 418,
   "id": "7a5ecf1f",
   "metadata": {},
   "outputs": [],
   "source": [
    "# playlist to dataframe\n",
    "def to_df(playlist_id):\n",
    "    playlist = get_tracks(playlist_id)\n",
    "    ids = extract_ids(playlist)\n",
    "    features = extract_features(ids)\n",
    "\n",
    "    df = pd.DataFrame({'id' : ids, 'features' : features})\n",
    "    df = pd.concat([df.drop(['features'], axis=1), df['features'].apply(pd.Series).drop(['id'], axis=1)], axis=1)\n",
    "    df.drop(['type', 'uri', 'track_href', 'analysis_url', 'time_signature'], axis=1, inplace=True)\n",
    "\n",
    "    return df\n"
   ]
  },
  {
   "cell_type": "code",
   "execution_count": null,
   "id": "9cc96e26",
   "metadata": {},
   "outputs": [],
   "source": [
    "#to_df('5S8SJdl1BDc0ugpkEvFsIL')  #longest 10k  ---tracks without features\n",
    "#to_df('7beGd4yYY1qpsBv6K3clFZ') - 4.5k"
   ]
  },
  {
   "cell_type": "code",
   "execution_count": 419,
   "id": "8013d6ee",
   "metadata": {},
   "outputs": [],
   "source": [
    "df = pd.concat([to_df('0iAeUtwINlqfjwAyQ4ykur'),\n",
    "                to_df('37i9dQZF1DWXWbLEOaHnU3')], ignore_index=True)\n"
   ]
  },
  {
   "cell_type": "code",
   "execution_count": null,
   "id": "ccb7128a",
   "metadata": {},
   "outputs": [],
   "source": []
  }
 ],
 "metadata": {
  "kernelspec": {
   "display_name": "base",
   "language": "python",
   "name": "python3"
  },
  "language_info": {
   "codemirror_mode": {
    "name": "ipython",
    "version": 3
   },
   "file_extension": ".py",
   "mimetype": "text/x-python",
   "name": "python",
   "nbconvert_exporter": "python",
   "pygments_lexer": "ipython3",
   "version": "3.9.13"
  },
  "vscode": {
   "interpreter": {
    "hash": "9369e8ca83508345c890ec530ea3af6b0139be3bb5e3bb2fafc0fb051053a94e"
   }
  }
 },
 "nbformat": 4,
 "nbformat_minor": 5
}
